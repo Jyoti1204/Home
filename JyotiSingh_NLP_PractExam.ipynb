{
  "nbformat": 4,
  "nbformat_minor": 0,
  "metadata": {
    "colab": {
      "name": "JyotiSingh_NLP_PractExam.ipynb",
      "provenance": [],
      "collapsed_sections": [],
      "include_colab_link": true
    },
    "kernelspec": {
      "name": "python3",
      "display_name": "Python 3"
    },
    "language_info": {
      "name": "python"
    }
  },
  "cells": [
    {
      "cell_type": "markdown",
      "metadata": {
        "id": "view-in-github",
        "colab_type": "text"
      },
      "source": [
        "<a href=\"https://colab.research.google.com/github/Jyoti1204/NLP/blob/master/JyotiSingh_NLP_PractExam.ipynb\" target=\"_parent\"><img src=\"https://colab.research.google.com/assets/colab-badge.svg\" alt=\"Open In Colab\"/></a>"
      ]
    },
    {
      "cell_type": "code",
      "metadata": {
        "colab": {
          "base_uri": "https://localhost:8080/"
        },
        "id": "gM_IZ-hEAGc0",
        "outputId": "efdbf5f5-4261-407c-a830-7b72ba276479"
      },
      "source": [
        "import nltk\n",
        "from nltk.tokenize import sent_tokenize, word_tokenize\n",
        "from urllib import request\n",
        "from __future__ import division\n",
        "import nltk, re, pprint\n",
        "from nltk import word_tokenize\n",
        "nltk.download('punkt')"
      ],
      "execution_count": null,
      "outputs": [
        {
          "output_type": "stream",
          "text": [
            "[nltk_data] Downloading package punkt to /root/nltk_data...\n",
            "[nltk_data]   Package punkt is already up-to-date!\n"
          ],
          "name": "stdout"
        },
        {
          "output_type": "execute_result",
          "data": {
            "text/plain": [
              "True"
            ]
          },
          "metadata": {
            "tags": []
          },
          "execution_count": 3
        }
      ]
    },
    {
      "cell_type": "code",
      "metadata": {
        "id": "nU-bZjwfBQkn"
      },
      "source": [
        "text = \"The Department of Information Technology at Ramniranjan Jhunjhunwala College, Ghatkopar, Mumbai was established in 2007. The Department offers both undergraduate (B.Sc. IT) and postgraduate (M.Sc. IT) programmes. The M.Sc IT programme was introduced in the year 2016.\""
      ],
      "execution_count": null,
      "outputs": []
    },
    {
      "cell_type": "code",
      "metadata": {
        "colab": {
          "base_uri": "https://localhost:8080/"
        },
        "id": "CWPaBkkpCGdJ",
        "outputId": "3b105573-4ed0-4d3e-f63a-5d6e26e41997"
      },
      "source": [
        "print(sent_tokenize(text))"
      ],
      "execution_count": null,
      "outputs": [
        {
          "output_type": "stream",
          "text": [
            "['The Department of Information Technology at Ramniranjan Jhunjhunwala College, Ghatkopar, Mumbai was established in 2007.', 'The Department offers both undergraduate (B.Sc.', 'IT) and postgraduate (M.Sc.', 'IT) programmes.', 'The M.Sc IT programme was introduced in the year 2016.']\n"
          ],
          "name": "stdout"
        }
      ]
    },
    {
      "cell_type": "code",
      "metadata": {
        "colab": {
          "base_uri": "https://localhost:8080/"
        },
        "id": "JeEn9BiJCOsK",
        "outputId": "388c394e-f404-4aea-a331-d9d6c857e0a4"
      },
      "source": [
        "print(word_tokenize(text))"
      ],
      "execution_count": null,
      "outputs": [
        {
          "output_type": "stream",
          "text": [
            "['The', 'Department', 'of', 'Information', 'Technology', 'at', 'Ramniranjan', 'Jhunjhunwala', 'College', ',', 'Ghatkopar', ',', 'Mumbai', 'was', 'established', 'in', '2007', '.', 'The', 'Department', 'offers', 'both', 'undergraduate', '(', 'B.Sc', '.', 'IT', ')', 'and', 'postgraduate', '(', 'M.Sc', '.', 'IT', ')', 'programmes', '.', 'The', 'M.Sc', 'IT', 'programme', 'was', 'introduced', 'in', 'the', 'year', '2016', '.']\n"
          ],
          "name": "stdout"
        }
      ]
    },
    {
      "cell_type": "code",
      "metadata": {
        "colab": {
          "base_uri": "https://localhost:8080/"
        },
        "id": "WiNUHfzgCk0W",
        "outputId": "ae9f75a4-854a-4ed4-f9d3-d7e19954d2b7"
      },
      "source": [
        "from nltk.tokenize import sent_tokenize\n",
        "  \n",
        "text = \"The Department of Information Technology at Ramniranjan Jhunjhunwala College, Ghatkopar, Mumbai was established in 2007. The Department offers both undergraduate (B.Sc. IT) and postgraduate (M.Sc. IT) programmes. The M.Sc IT programme was introduced in the year 2016.\"\n",
        "sent_tokenize(text)"
      ],
      "execution_count": null,
      "outputs": [
        {
          "output_type": "execute_result",
          "data": {
            "text/plain": [
              "['The Department of Information Technology at Ramniranjan Jhunjhunwala College, Ghatkopar, Mumbai was established in 2007.',\n",
              " 'The Department offers both undergraduate (B.Sc.',\n",
              " 'IT) and postgraduate (M.Sc.',\n",
              " 'IT) programmes.',\n",
              " 'The M.Sc IT programme was introduced in the year 2016.']"
            ]
          },
          "metadata": {
            "tags": []
          },
          "execution_count": 7
        }
      ]
    },
    {
      "cell_type": "code",
      "metadata": {
        "colab": {
          "base_uri": "https://localhost:8080/"
        },
        "id": "8BGyE-5fEEqd",
        "outputId": "5369598f-4358-4a4b-9d79-4dc53d26c63a"
      },
      "source": [
        "import nltk\n",
        "nltk.download('averaged_perceptron_tagger')\n",
        "from nltk import pos_tag\n",
        "from nltk import RegexpParser\n",
        "text =\"The Department of Information Technology at Ramniranjan Jhunjhunwala College, Ghatkopar, Mumbai was established in 2007. The Department offers both undergraduate (B.Sc. IT) and postgraduate (M.Sc. IT) programmes. The M.Sc IT programme was introduced in the year 2016.\".split()\n",
        "print(\"After Split:\",text)\n",
        "tokens_tag = pos_tag(text)\n",
        "print(\"After Token:\",tokens_tag)\n",
        "patterns= \"\"\"mychunk:{<NN.?>*<VBD.?>*<JJ.?>*<CC>?}\"\"\"\n",
        "chunker = RegexpParser(patterns)\n",
        "print(\"After Regex:\",chunker)\n",
        "output = chunker.parse(tokens_tag)\n",
        "print(\"After Chunking\",output)"
      ],
      "execution_count": null,
      "outputs": [
        {
          "output_type": "stream",
          "text": [
            "[nltk_data] Downloading package averaged_perceptron_tagger to\n",
            "[nltk_data]     /root/nltk_data...\n",
            "[nltk_data]   Unzipping taggers/averaged_perceptron_tagger.zip.\n",
            "After Split: ['The', 'Department', 'of', 'Information', 'Technology', 'at', 'Ramniranjan', 'Jhunjhunwala', 'College,', 'Ghatkopar,', 'Mumbai', 'was', 'established', 'in', '2007.', 'The', 'Department', 'offers', 'both', 'undergraduate', '(B.Sc.', 'IT)', 'and', 'postgraduate', '(M.Sc.', 'IT)', 'programmes.', 'The', 'M.Sc', 'IT', 'programme', 'was', 'introduced', 'in', 'the', 'year', '2016.']\n",
            "After Token: [('The', 'DT'), ('Department', 'NNP'), ('of', 'IN'), ('Information', 'NNP'), ('Technology', 'NNP'), ('at', 'IN'), ('Ramniranjan', 'NNP'), ('Jhunjhunwala', 'NNP'), ('College,', 'NNP'), ('Ghatkopar,', 'NNP'), ('Mumbai', 'NNP'), ('was', 'VBD'), ('established', 'VBN'), ('in', 'IN'), ('2007.', 'CD'), ('The', 'DT'), ('Department', 'NNP'), ('offers', 'VBZ'), ('both', 'DT'), ('undergraduate', 'JJ'), ('(B.Sc.', 'NN'), ('IT)', 'NNP'), ('and', 'CC'), ('postgraduate', 'VB'), ('(M.Sc.', 'NNP'), ('IT)', 'NNP'), ('programmes.', 'VBD'), ('The', 'DT'), ('M.Sc', 'NNP'), ('IT', 'NNP'), ('programme', 'NN'), ('was', 'VBD'), ('introduced', 'VBN'), ('in', 'IN'), ('the', 'DT'), ('year', 'NN'), ('2016.', 'CD')]\n",
            "After Regex: chunk.RegexpParser with 1 stages:\n",
            "RegexpChunkParser with 1 rules:\n",
            "       <ChunkRule: '<NN.?>*<VBD.?>*<JJ.?>*<CC>?'>\n",
            "After Chunking (S\n",
            "  The/DT\n",
            "  (mychunk Department/NNP)\n",
            "  of/IN\n",
            "  (mychunk Information/NNP Technology/NNP)\n",
            "  at/IN\n",
            "  (mychunk\n",
            "    Ramniranjan/NNP\n",
            "    Jhunjhunwala/NNP\n",
            "    College,/NNP\n",
            "    Ghatkopar,/NNP\n",
            "    Mumbai/NNP\n",
            "    was/VBD)\n",
            "  established/VBN\n",
            "  in/IN\n",
            "  2007./CD\n",
            "  The/DT\n",
            "  (mychunk Department/NNP)\n",
            "  offers/VBZ\n",
            "  both/DT\n",
            "  (mychunk undergraduate/JJ)\n",
            "  (mychunk (B.Sc./NN IT)/NNP and/CC)\n",
            "  postgraduate/VB\n",
            "  (mychunk (M.Sc./NNP IT)/NNP programmes./VBD)\n",
            "  The/DT\n",
            "  (mychunk M.Sc/NNP IT/NNP programme/NN was/VBD)\n",
            "  introduced/VBN\n",
            "  in/IN\n",
            "  the/DT\n",
            "  (mychunk year/NN)\n",
            "  2016./CD)\n"
          ],
          "name": "stdout"
        }
      ]
    },
    {
      "cell_type": "code",
      "metadata": {
        "colab": {
          "base_uri": "https://localhost:8080/"
        },
        "id": "RCpNnOp-E88Y",
        "outputId": "67fcd097-943c-4012-f613-2f871e2e4e17"
      },
      "source": [
        "import nltk\n",
        "from nltk.corpus import stopwords\n",
        "from nltk.tokenize import word_tokenize, sent_tokenize\n",
        "nltk.download('stopwords')\n",
        "stop_words = set(stopwords.words('english'))\n",
        "nltk.download('averaged_perceptron_tagger')\n",
        "text = \"The Department of Information Technology at Ramniranjan Jhunjhunwala College, Ghatkopar, Mumbai was established in 2007. The Department offers both undergraduate (B.Sc. IT) and postgraduate (M.Sc. IT) programmes. The M.Sc IT programme was introduced in the year 2016.\"\n",
        "tokenized = sent_tokenize(text)\n",
        "for i in tokenized:\n",
        " wordsList = nltk.word_tokenize(i)\n",
        " wordsList = [w for w in wordsList if not w in stop_words] \n",
        " tagged = nltk.pos_tag(wordsList) \n",
        "print(tagged)"
      ],
      "execution_count": null,
      "outputs": [
        {
          "output_type": "stream",
          "text": [
            "[nltk_data] Downloading package stopwords to /root/nltk_data...\n",
            "[nltk_data]   Unzipping corpora/stopwords.zip.\n",
            "[nltk_data] Downloading package averaged_perceptron_tagger to\n",
            "[nltk_data]     /root/nltk_data...\n",
            "[nltk_data]   Package averaged_perceptron_tagger is already up-to-\n",
            "[nltk_data]       date!\n",
            "[('The', 'DT'), ('M.Sc', 'NNP'), ('IT', 'NNP'), ('programme', 'NN'), ('introduced', 'VBD'), ('year', 'NN'), ('2016', 'CD'), ('.', '.')]\n"
          ],
          "name": "stdout"
        }
      ]
    },
    {
      "cell_type": "code",
      "metadata": {
        "colab": {
          "base_uri": "https://localhost:8080/"
        },
        "id": "1lzw8ElhKd4e",
        "outputId": "830e195f-0daa-4c99-90de-95fdd6d8407f"
      },
      "source": [
        "documents = [\"The Department of Information Technology at Ramniranjan Jhunjhunwala College, Ghatkopar, Mumbai was established in 2007. The Department offers both undergraduate (B.Sc. IT) and postgraduate (M.Sc. IT) programmes. The M.Sc IT programme was introduced in the year 2016.\"]\n",
        "\n",
        "lower_case_documents = []\n",
        "for i in documents:\n",
        "    lower_case_documents.append(i.lower())\n",
        "print(lower_case_documents)"
      ],
      "execution_count": null,
      "outputs": [
        {
          "output_type": "stream",
          "text": [
            "['the department of information technology at ramniranjan jhunjhunwala college, ghatkopar, mumbai was established in 2007. the department offers both undergraduate (b.sc. it) and postgraduate (m.sc. it) programmes. the m.sc it programme was introduced in the year 2016.']\n"
          ],
          "name": "stdout"
        }
      ]
    },
    {
      "cell_type": "code",
      "metadata": {
        "colab": {
          "base_uri": "https://localhost:8080/"
        },
        "id": "YykzTCXxMopQ",
        "outputId": "64fff673-8524-4d55-92c8-21a4eefbca47"
      },
      "source": [
        "sans_punctuation_documents = []\n",
        "import string\n",
        "\n",
        "for i in lower_case_documents:\n",
        "    sans_punctuation_documents.append(''.join(c for c in i if c not in string.punctuation))\n",
        "    \n",
        "print(sans_punctuation_documents)"
      ],
      "execution_count": null,
      "outputs": [
        {
          "output_type": "stream",
          "text": [
            "['the department of information technology at ramniranjan jhunjhunwala college ghatkopar mumbai was established in 2007 the department offers both undergraduate bsc it and postgraduate msc it programmes the msc it programme was introduced in the year 2016']\n"
          ],
          "name": "stdout"
        }
      ]
    },
    {
      "cell_type": "code",
      "metadata": {
        "colab": {
          "base_uri": "https://localhost:8080/"
        },
        "id": "mH-m1Wj_MraD",
        "outputId": "96550613-d35a-4351-f4c2-c0e6ce49cd2e"
      },
      "source": [
        "preprocessed_documents = []\n",
        "for i in sans_punctuation_documents:\n",
        "    preprocessed_documents.append(i.split(' '))\n",
        "print(preprocessed_documents)"
      ],
      "execution_count": null,
      "outputs": [
        {
          "output_type": "stream",
          "text": [
            "[['the', 'department', 'of', 'information', 'technology', 'at', 'ramniranjan', 'jhunjhunwala', 'college', 'ghatkopar', 'mumbai', 'was', 'established', 'in', '2007', 'the', 'department', 'offers', 'both', 'undergraduate', 'bsc', 'it', 'and', 'postgraduate', 'msc', 'it', 'programmes', 'the', 'msc', 'it', 'programme', 'was', 'introduced', 'in', 'the', 'year', '2016']]\n"
          ],
          "name": "stdout"
        }
      ]
    },
    {
      "cell_type": "code",
      "metadata": {
        "colab": {
          "base_uri": "https://localhost:8080/"
        },
        "id": "fgjjMDvbMuw6",
        "outputId": "0ced3f3d-7cf2-4b5e-dd02-11158caf4c12"
      },
      "source": [
        "frequency_list = []\n",
        "import pprint\n",
        "from collections import Counter\n",
        "\n",
        "for i in preprocessed_documents:\n",
        "    frequency_list.append(Counter(i))\n",
        "    \n",
        "pprint.pprint(frequency_list)"
      ],
      "execution_count": null,
      "outputs": [
        {
          "output_type": "stream",
          "text": [
            "[Counter({'the': 4,\n",
            "          'it': 3,\n",
            "          'department': 2,\n",
            "          'was': 2,\n",
            "          'in': 2,\n",
            "          'msc': 2,\n",
            "          'of': 1,\n",
            "          'information': 1,\n",
            "          'technology': 1,\n",
            "          'at': 1,\n",
            "          'ramniranjan': 1,\n",
            "          'jhunjhunwala': 1,\n",
            "          'college': 1,\n",
            "          'ghatkopar': 1,\n",
            "          'mumbai': 1,\n",
            "          'established': 1,\n",
            "          '2007': 1,\n",
            "          'offers': 1,\n",
            "          'both': 1,\n",
            "          'undergraduate': 1,\n",
            "          'bsc': 1,\n",
            "          'and': 1,\n",
            "          'postgraduate': 1,\n",
            "          'programmes': 1,\n",
            "          'programme': 1,\n",
            "          'introduced': 1,\n",
            "          'year': 1,\n",
            "          '2016': 1})]\n"
          ],
          "name": "stdout"
        }
      ]
    },
    {
      "cell_type": "code",
      "metadata": {
        "colab": {
          "base_uri": "https://localhost:8080/"
        },
        "id": "ECFUCxsvN8O9",
        "outputId": "145c1615-3817-48d9-c1ce-7e0f548aa68f"
      },
      "source": [
        "import nltk\n",
        "from nltk.stem.porter import *\n",
        "\n",
        "porterStemmer = PorterStemmer()\n",
        "\n",
        "text = \"The Department of Information Technology at Ramniranjan Jhunjhunwala College, Ghatkopar, Mumbai was established in 2007. The Department offers both undergraduate (B.Sc. IT) and postgraduate (M.Sc. IT) programmes. The M.Sc IT programme was introduced in the year 2016.\"\n",
        "wordList = nltk.word_tokenize(text)\n",
        "\n",
        "stemWords = [porterStemmer.stem(word) for word in wordList]\n",
        "\n",
        "print(' '.join(stemWords))"
      ],
      "execution_count": null,
      "outputs": [
        {
          "output_type": "stream",
          "text": [
            "the depart of inform technolog at ramniranjan jhunjhunwala colleg , ghatkopar , mumbai wa establish in 2007 . the depart offer both undergradu ( b.sc . IT ) and postgradu ( m.sc . IT ) programm . the m.sc IT programm wa introduc in the year 2016 .\n"
          ],
          "name": "stdout"
        }
      ]
    },
    {
      "cell_type": "code",
      "metadata": {
        "colab": {
          "base_uri": "https://localhost:8080/",
          "height": 130
        },
        "id": "Z6V_VH0qP-Pw",
        "outputId": "92b42421-74db-4f15-cc2b-49eed7dc0cb3"
      },
      "source": [
        "import nltk\n",
        "import string\n",
        "import re\n",
        "\n",
        "nltk.download(\"punkt\")\n",
        "nltk.download(\"averaged_perceptron_tagger\")\n",
        "\n",
        "nltk.tokenize import word_tokenize \n",
        "from nltk import pos_tag\n",
        "from nltk import RegexpParserfrom\n",
        "\n",
        "sentence = \"The Fourth Hokage Minato is YellowFlash of Konoha\"\n",
        "\n",
        "grammar = ('''\n",
        "    NP: {<DT>?<JJ>*<NN>} # NP\n",
        "    ''')\n",
        "\n",
        "chunkParser = nltk.RegexpParser(grammar)\n",
        "tagged = nltk.pos_tag(nltk.word_tokenize(sentence))\n",
        "tagged\n",
        "\n",
        "tree = chunkParser.parse(tagged)\n",
        "\n",
        "for subtree in tree.subtrees():\n",
        "    print(subtree)\n",
        " #tree.draw()"
      ],
      "execution_count": null,
      "outputs": [
        {
          "output_type": "error",
          "ename": "SyntaxError",
          "evalue": "ignored",
          "traceback": [
            "\u001b[0;36m  File \u001b[0;32m\"<ipython-input-15-da3a40201a5e>\"\u001b[0;36m, line \u001b[0;32m8\u001b[0m\n\u001b[0;31m    nltk.tokenize import word_tokenize\u001b[0m\n\u001b[0m                       ^\u001b[0m\n\u001b[0;31mSyntaxError\u001b[0m\u001b[0;31m:\u001b[0m invalid syntax\n"
          ]
        }
      ]
    }
  ]
}